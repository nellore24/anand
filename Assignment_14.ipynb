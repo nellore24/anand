{
 "cells": [
  {
   "cell_type": "markdown",
   "id": "bbbddc06",
   "metadata": {},
   "source": [
    "1. What does RGBA stand for?"
   ]
  },
  {
   "cell_type": "code",
   "execution_count": null,
   "id": "76214417",
   "metadata": {},
   "outputs": [],
   "source": [
    "Ans.\n",
    "RGBA(Red-Green-Blue-Alpha)"
   ]
  },
  {
   "cell_type": "code",
   "execution_count": null,
   "id": "e7ab8372",
   "metadata": {},
   "outputs": [],
   "source": []
  },
  {
   "cell_type": "code",
   "execution_count": null,
   "id": "15f8ef59",
   "metadata": {},
   "outputs": [],
   "source": []
  },
  {
   "cell_type": "markdown",
   "id": "5a05697d",
   "metadata": {},
   "source": [
    "2. From the Pillow module, how do you get the RGBA value of any images?"
   ]
  },
  {
   "cell_type": "markdown",
   "id": "a620aaa7",
   "metadata": {},
   "source": [
    "Ans.\n",
    "To extract RGB values, we use the imread() function of the image class of matplotlib . Empty lists, r , g and b have been initialized."
   ]
  },
  {
   "cell_type": "code",
   "execution_count": null,
   "id": "f86e1b3c",
   "metadata": {},
   "outputs": [],
   "source": []
  },
  {
   "cell_type": "code",
   "execution_count": null,
   "id": "c9d78219",
   "metadata": {},
   "outputs": [],
   "source": []
  },
  {
   "cell_type": "markdown",
   "id": "c451b234",
   "metadata": {},
   "source": [
    "3. What is a box tuple, and how does it work?"
   ]
  },
  {
   "cell_type": "markdown",
   "id": "34664d42",
   "metadata": {},
   "source": [
    "Ans.\n",
    "How does tuple work in Python?\n",
    "Tuples are used to store multiple items in a single variable. Tuple is one of 4 built-in data types in Python used to store collections of data, the other 3 are List, Set, and Dictionary, all with different qualities and usage. A tuple is a collection which is ordered and unchangeable."
   ]
  },
  {
   "cell_type": "code",
   "execution_count": null,
   "id": "17ceafd2",
   "metadata": {},
   "outputs": [],
   "source": []
  },
  {
   "cell_type": "code",
   "execution_count": null,
   "id": "3e9c2774",
   "metadata": {},
   "outputs": [],
   "source": []
  },
  {
   "cell_type": "markdown",
   "id": "370e9362",
   "metadata": {},
   "source": [
    "4. Use your image and load in notebook then, How can you find out the width and height of an Image object?"
   ]
  },
  {
   "cell_type": "code",
   "execution_count": null,
   "id": "a5a4fe1e",
   "metadata": {},
   "outputs": [],
   "source": [
    "# import required module\n",
    "from PIL import Image\n",
    "  \n",
    "# get image\n",
    "filepath = \"geeksforgeeks.png\"\n",
    "img = Image.open(filepath)\n",
    "  \n",
    "# get width and height\n",
    "width = img.width\n",
    "height = img.height\n",
    "  \n",
    "# display width and height\n",
    "print(\"The height of the image is: \", height)\n",
    "print(\"The width of the image is: \", width)"
   ]
  },
  {
   "cell_type": "code",
   "execution_count": null,
   "id": "579d46d4",
   "metadata": {},
   "outputs": [],
   "source": []
  },
  {
   "cell_type": "code",
   "execution_count": null,
   "id": "0935cbba",
   "metadata": {},
   "outputs": [],
   "source": []
  },
  {
   "cell_type": "markdown",
   "id": "1dd7edc1",
   "metadata": {},
   "source": [
    "5. What method would you call to get Image object for a 100×100 image, excluding the lower-left quarter of it?"
   ]
  },
  {
   "cell_type": "code",
   "execution_count": null,
   "id": "b6b8fbe0",
   "metadata": {},
   "outputs": [],
   "source": []
  },
  {
   "cell_type": "code",
   "execution_count": null,
   "id": "cfa5a4d1",
   "metadata": {},
   "outputs": [],
   "source": []
  },
  {
   "cell_type": "code",
   "execution_count": null,
   "id": "cace1e30",
   "metadata": {},
   "outputs": [],
   "source": []
  },
  {
   "cell_type": "markdown",
   "id": "80f9f9c1",
   "metadata": {},
   "source": [
    "6. After making changes to an Image object, how could you save it as an image file?"
   ]
  },
  {
   "cell_type": "markdown",
   "id": "b30d11f9",
   "metadata": {},
   "source": [
    "Ans.\n",
    "img_PIL.save(r'\\dogs-v-cats\\dog.1.png')"
   ]
  },
  {
   "cell_type": "code",
   "execution_count": null,
   "id": "12dbc828",
   "metadata": {},
   "outputs": [],
   "source": []
  },
  {
   "cell_type": "code",
   "execution_count": null,
   "id": "f75e3749",
   "metadata": {},
   "outputs": [],
   "source": []
  },
  {
   "cell_type": "markdown",
   "id": "9066294e",
   "metadata": {},
   "source": [
    "7. What module contains Pillow’s shape-drawing code?"
   ]
  },
  {
   "cell_type": "markdown",
   "id": "c77bbf70",
   "metadata": {},
   "source": [
    "Ans.\n",
    "Pillow provides a drawing module called ImageDraw that you can use to create simple 2D graphics on your Image objects."
   ]
  },
  {
   "cell_type": "code",
   "execution_count": null,
   "id": "0d7e0af7",
   "metadata": {},
   "outputs": [],
   "source": []
  },
  {
   "cell_type": "code",
   "execution_count": null,
   "id": "cdf1a947",
   "metadata": {},
   "outputs": [],
   "source": []
  },
  {
   "cell_type": "markdown",
   "id": "162a5221",
   "metadata": {},
   "source": [
    "8. Image objects do not have drawing methods. What kind of object does? How do you get this kind of object?"
   ]
  },
  {
   "cell_type": "markdown",
   "id": "28b4eb4e",
   "metadata": {},
   "source": [
    "Ans.\n",
    "An object, in object-oriented programming (OOP), is an abstract data type created by a developer. It can include multiple properties and methods and may even contain other objects. In most programming languages, objects are defined as classes. Objects provide a structured approach to programming."
   ]
  }
 ],
 "metadata": {
  "kernelspec": {
   "display_name": "Python 3 (ipykernel)",
   "language": "python",
   "name": "python3"
  },
  "language_info": {
   "codemirror_mode": {
    "name": "ipython",
    "version": 3
   },
   "file_extension": ".py",
   "mimetype": "text/x-python",
   "name": "python",
   "nbconvert_exporter": "python",
   "pygments_lexer": "ipython3",
   "version": "3.9.7"
  }
 },
 "nbformat": 4,
 "nbformat_minor": 5
}
