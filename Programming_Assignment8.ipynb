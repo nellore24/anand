{
 "cells": [
  {
   "cell_type": "markdown",
   "id": "d3ca84f8",
   "metadata": {},
   "source": [
    "1.\tWrite a Python Program to Add Two Matrices?"
   ]
  },
  {
   "cell_type": "code",
   "execution_count": 6,
   "id": "5c1fb041",
   "metadata": {},
   "outputs": [
    {
     "name": "stdout",
     "output_type": "stream",
     "text": [
      "[17, 15, 4]\n",
      "[10, 12, 9]\n",
      "[11, 13, 18]\n"
     ]
    }
   ],
   "source": [
    "x=[[12,7,3],\n",
    "  [4,5,6],\n",
    "  [7,8,9]]\n",
    "y=[[5,8,1],\n",
    "  [6,7,3],\n",
    "  [4,5,9]]\n",
    "result=[[0,0,0],\n",
    "       [0,0,0],\n",
    "       [0,0,0]]\n",
    "for i in range(len(x)):\n",
    "    for j in range(len(x[0])):\n",
    "        result[i][j]=x[i][j]+y[i][j]\n",
    "for r in result:\n",
    "    print(r)"
   ]
  },
  {
   "cell_type": "code",
   "execution_count": null,
   "id": "17908f2b",
   "metadata": {},
   "outputs": [],
   "source": []
  },
  {
   "cell_type": "markdown",
   "id": "2e2e5a7b",
   "metadata": {},
   "source": [
    "2.\tWrite a Python Program to Multiply Two Matrices?"
   ]
  },
  {
   "cell_type": "code",
   "execution_count": 7,
   "id": "9f534287",
   "metadata": {},
   "outputs": [
    {
     "name": "stdout",
     "output_type": "stream",
     "text": [
      "[60, 56, 3]\n",
      "[24, 35, 18]\n",
      "[28, 40, 81]\n"
     ]
    }
   ],
   "source": [
    "x=[[12,7,3],\n",
    "  [4,5,6],\n",
    "  [7,8,9]]\n",
    "y=[[5,8,1],\n",
    "  [6,7,3],\n",
    "  [4,5,9]]\n",
    "result=[[0,0,0],\n",
    "       [0,0,0],\n",
    "       [0,0,0]]\n",
    "for i in range(len(x)):\n",
    "    for j in range(len(x[0])):\n",
    "        result[i][j]=x[i][j]*y[i][j]\n",
    "for r in result:\n",
    "    print(r)"
   ]
  },
  {
   "cell_type": "code",
   "execution_count": null,
   "id": "455f582b",
   "metadata": {},
   "outputs": [],
   "source": []
  },
  {
   "cell_type": "markdown",
   "id": "0fbbcd0b",
   "metadata": {},
   "source": [
    "3.\tWrite a Python Program to Transpose a Matrix?"
   ]
  },
  {
   "cell_type": "code",
   "execution_count": 9,
   "id": "5b15d1d9",
   "metadata": {},
   "outputs": [
    {
     "name": "stdout",
     "output_type": "stream",
     "text": [
      "[12, 4, 3]\n",
      "[7, 5, 8]\n"
     ]
    }
   ],
   "source": [
    "x = [[12,7],\n",
    "    [4 ,5],\n",
    "    [3 ,8]]\n",
    "\n",
    "result = [[0,0,0],\n",
    "         [0,0,0]]\n",
    "#iterate through rows\n",
    "for i in range(len(x)):\n",
    "    #iterate through columns\n",
    "    for j in range(len(x[0])):\n",
    "        result[j][i]=x[i][j]\n",
    "for r in result:\n",
    "    print(r)"
   ]
  },
  {
   "cell_type": "code",
   "execution_count": null,
   "id": "b89bf190",
   "metadata": {},
   "outputs": [],
   "source": []
  },
  {
   "cell_type": "markdown",
   "id": "a29be12e",
   "metadata": {},
   "source": [
    "4.\tWrite a Python Program to Sort Words in Alphabetic Order?"
   ]
  },
  {
   "cell_type": "code",
   "execution_count": 14,
   "id": "582350ad",
   "metadata": {},
   "outputs": [
    {
     "name": "stdout",
     "output_type": "stream",
     "text": [
      "The sorted words are:\n",
      "an\n",
      "cased\n",
      "example\n",
      "hello\n",
      "is\n",
      "letters\n",
      "this\n",
      "with\n"
     ]
    }
   ],
   "source": [
    "my_str=\"Hello this Is an Example With cased letters\"\n",
    "words=[word.lower() for word in my_str.split()]\n",
    "words.sort()\n",
    "print(\"The sorted words are:\")\n",
    "for word in words:\n",
    "    print(word)"
   ]
  },
  {
   "cell_type": "code",
   "execution_count": null,
   "id": "3160e206",
   "metadata": {},
   "outputs": [],
   "source": []
  },
  {
   "cell_type": "markdown",
   "id": "410ca3bc",
   "metadata": {},
   "source": [
    "5. Hello this Is an Example With cased letters"
   ]
  },
  {
   "cell_type": "code",
   "execution_count": 15,
   "id": "27a364db",
   "metadata": {},
   "outputs": [
    {
     "name": "stdout",
     "output_type": "stream",
     "text": [
      "0\n"
     ]
    }
   ],
   "source": [
    "x=\"Hello this Is an Example With cased letters\"\n",
    "print(x.find(\"Hello\"))"
   ]
  },
  {
   "cell_type": "code",
   "execution_count": null,
   "id": "8153f67a",
   "metadata": {},
   "outputs": [],
   "source": []
  }
 ],
 "metadata": {
  "kernelspec": {
   "display_name": "Python 3 (ipykernel)",
   "language": "python",
   "name": "python3"
  },
  "language_info": {
   "codemirror_mode": {
    "name": "ipython",
    "version": 3
   },
   "file_extension": ".py",
   "mimetype": "text/x-python",
   "name": "python",
   "nbconvert_exporter": "python",
   "pygments_lexer": "ipython3",
   "version": "3.9.7"
  }
 },
 "nbformat": 4,
 "nbformat_minor": 5
}
