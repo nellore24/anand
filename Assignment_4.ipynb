{
 "cells": [
  {
   "cell_type": "markdown",
   "id": "53aed808",
   "metadata": {},
   "source": [
    "1.What exactly is []?"
   ]
  },
  {
   "cell_type": "code",
   "execution_count": null,
   "id": "e62c5189",
   "metadata": {},
   "outputs": [],
   "source": [
    "Ans. It denotes List datatype."
   ]
  },
  {
   "cell_type": "code",
   "execution_count": null,
   "id": "865d2841",
   "metadata": {},
   "outputs": [],
   "source": []
  },
  {
   "cell_type": "markdown",
   "id": "52ec9c2a",
   "metadata": {},
   "source": [
    "2. In a list of values stored in a variable called spam, how would you assign the value 'hello' as the third value? (Assume [2, 4, 6, 8, 10] are in spam.)"
   ]
  },
  {
   "cell_type": "code",
   "execution_count": null,
   "id": "5b209d41",
   "metadata": {},
   "outputs": [],
   "source": [
    "Ans. i will use insert method. which passing index number and string.eg:insert(3,\"hello\")"
   ]
  },
  {
   "cell_type": "code",
   "execution_count": null,
   "id": "8f47c811",
   "metadata": {},
   "outputs": [],
   "source": []
  },
  {
   "cell_type": "markdown",
   "id": "8b4117a2",
   "metadata": {},
   "source": [
    "Let's pretend the spam includes the list ['a', 'b', 'c', 'd'] for the next three queries."
   ]
  },
  {
   "cell_type": "markdown",
   "id": "93f99883",
   "metadata": {},
   "source": [
    "3. What is the value of spam[int(int('3' * 2) / 11)]?"
   ]
  },
  {
   "cell_type": "code",
   "execution_count": null,
   "id": "35b24c66",
   "metadata": {},
   "outputs": [],
   "source": [
    "Ans. d"
   ]
  },
  {
   "cell_type": "code",
   "execution_count": null,
   "id": "39e51a8e",
   "metadata": {},
   "outputs": [],
   "source": []
  },
  {
   "cell_type": "markdown",
   "id": "de83e83a",
   "metadata": {},
   "source": [
    "4. What is the value of spam[-1]?"
   ]
  },
  {
   "cell_type": "code",
   "execution_count": null,
   "id": "cd8ef731",
   "metadata": {},
   "outputs": [],
   "source": [
    "Ans. Index number starts from Right to left : d"
   ]
  },
  {
   "cell_type": "code",
   "execution_count": null,
   "id": "68fe2537",
   "metadata": {},
   "outputs": [],
   "source": []
  },
  {
   "cell_type": "markdown",
   "id": "445521b7",
   "metadata": {},
   "source": [
    "5. What is the value of spam[:2]?"
   ]
  },
  {
   "cell_type": "code",
   "execution_count": null,
   "id": "d16fc03a",
   "metadata": {},
   "outputs": [],
   "source": [
    "Ans. c"
   ]
  },
  {
   "cell_type": "code",
   "execution_count": null,
   "id": "186d05ae",
   "metadata": {},
   "outputs": [],
   "source": []
  },
  {
   "cell_type": "markdown",
   "id": "132d9b5a",
   "metadata": {},
   "source": [
    "Let's pretend bacon has the list [3.14, 'cat,' 11, 'cat,' True] for the next three questions."
   ]
  },
  {
   "cell_type": "markdown",
   "id": "795d40dc",
   "metadata": {},
   "source": [
    "6. What is the value of bacon.index('cat')?"
   ]
  },
  {
   "cell_type": "code",
   "execution_count": null,
   "id": "66591dc2",
   "metadata": {},
   "outputs": [],
   "source": [
    "Ans. 1"
   ]
  },
  {
   "cell_type": "code",
   "execution_count": null,
   "id": "c9a63fd1",
   "metadata": {},
   "outputs": [],
   "source": []
  },
  {
   "cell_type": "markdown",
   "id": "6912f217",
   "metadata": {},
   "source": [
    "7. How does bacon.append(99) change the look of the list value in bacon?"
   ]
  },
  {
   "cell_type": "code",
   "execution_count": null,
   "id": "491a608d",
   "metadata": {},
   "outputs": [],
   "source": [
    "Ans. [3.14, 'cat', 11, 'cat,' 'True',99]"
   ]
  },
  {
   "cell_type": "code",
   "execution_count": null,
   "id": "36a08c68",
   "metadata": {},
   "outputs": [],
   "source": []
  },
  {
   "cell_type": "markdown",
   "id": "d3e4b297",
   "metadata": {},
   "source": [
    "8. How does bacon.remove('cat') change the look of the list in bacon?"
   ]
  },
  {
   "cell_type": "code",
   "execution_count": null,
   "id": "777a98b2",
   "metadata": {},
   "outputs": [],
   "source": [
    "Ans.[3.14, 11, 'cat,True']"
   ]
  },
  {
   "cell_type": "code",
   "execution_count": null,
   "id": "1985b164",
   "metadata": {},
   "outputs": [],
   "source": []
  },
  {
   "cell_type": "markdown",
   "id": "b76c7edb",
   "metadata": {},
   "source": [
    "9. What are the list concatenation and list replication operators?"
   ]
  },
  {
   "cell_type": "code",
   "execution_count": null,
   "id": "ee77a5b4",
   "metadata": {},
   "outputs": [],
   "source": [
    "Ans. List conatenation is \"+\" and list replication is \"*\""
   ]
  },
  {
   "cell_type": "code",
   "execution_count": null,
   "id": "5775cee1",
   "metadata": {},
   "outputs": [],
   "source": []
  },
  {
   "cell_type": "markdown",
   "id": "8f8bbe03",
   "metadata": {},
   "source": [
    "10. What is difference between the list methods append() and insert()?"
   ]
  },
  {
   "cell_type": "code",
   "execution_count": null,
   "id": "683d6a21",
   "metadata": {},
   "outputs": [],
   "source": [
    "Ans. append() method add data at end of list but insert() method adds at anywhere in list."
   ]
  },
  {
   "cell_type": "code",
   "execution_count": null,
   "id": "784083af",
   "metadata": {},
   "outputs": [],
   "source": []
  },
  {
   "cell_type": "markdown",
   "id": "19bb1e12",
   "metadata": {},
   "source": [
    "11. What are the two methods for removing items from a list?"
   ]
  },
  {
   "cell_type": "code",
   "execution_count": null,
   "id": "2584e000",
   "metadata": {},
   "outputs": [],
   "source": [
    "Ans. remove method used to remove specific item and pop method uses index number."
   ]
  },
  {
   "cell_type": "code",
   "execution_count": null,
   "id": "bf2b6977",
   "metadata": {},
   "outputs": [],
   "source": []
  },
  {
   "cell_type": "markdown",
   "id": "f225ceab",
   "metadata": {},
   "source": [
    "12. Describe how list values and string values are identical."
   ]
  },
  {
   "cell_type": "code",
   "execution_count": null,
   "id": "4fc57fe8",
   "metadata": {},
   "outputs": [],
   "source": [
    "Ans. List values should any data type but in string values should be same data type."
   ]
  },
  {
   "cell_type": "code",
   "execution_count": null,
   "id": "8e11eff2",
   "metadata": {},
   "outputs": [],
   "source": []
  },
  {
   "cell_type": "markdown",
   "id": "0ea5d485",
   "metadata": {},
   "source": [
    "13. What's the difference between tuples and lists?"
   ]
  },
  {
   "cell_type": "code",
   "execution_count": null,
   "id": "d6fce59b",
   "metadata": {},
   "outputs": [],
   "source": [
    "Ans.he tuples are immutable objects the lists are mutable. "
   ]
  },
  {
   "cell_type": "code",
   "execution_count": null,
   "id": "45e649bd",
   "metadata": {},
   "outputs": [],
   "source": []
  },
  {
   "cell_type": "markdown",
   "id": "19c88e23",
   "metadata": {},
   "source": [
    "14. How do you type a tuple value that only contains the integer 42?"
   ]
  },
  {
   "cell_type": "code",
   "execution_count": null,
   "id": "ced3a1e3",
   "metadata": {},
   "outputs": [],
   "source": [
    "And. tuple=(42)"
   ]
  },
  {
   "cell_type": "code",
   "execution_count": null,
   "id": "31a253df",
   "metadata": {},
   "outputs": [],
   "source": []
  },
  {
   "cell_type": "markdown",
   "id": "9a7a2909",
   "metadata": {},
   "source": [
    "15. How do you get a list value's tuple form? How do you get a tuple value's list form?"
   ]
  },
  {
   "cell_type": "code",
   "execution_count": null,
   "id": "2e53232b",
   "metadata": {},
   "outputs": [],
   "source": [
    "Ans. Using typecaseting can get tuple to list and list to tuple. Eg: list(tuple), tuple(list)"
   ]
  },
  {
   "cell_type": "code",
   "execution_count": null,
   "id": "f38c68ea",
   "metadata": {},
   "outputs": [],
   "source": []
  },
  {
   "cell_type": "markdown",
   "id": "016ee83b",
   "metadata": {},
   "source": [
    "16. Variables that \"contain\" list values are not necessarily lists themselves. Instead, what do they contain?"
   ]
  },
  {
   "cell_type": "code",
   "execution_count": null,
   "id": "10029da5",
   "metadata": {},
   "outputs": [],
   "source": [
    "Ans. [] as constructure and ',' between values."
   ]
  },
  {
   "cell_type": "code",
   "execution_count": null,
   "id": "87468895",
   "metadata": {},
   "outputs": [],
   "source": []
  },
  {
   "cell_type": "markdown",
   "id": "d2f503d3",
   "metadata": {},
   "source": [
    "17. How do you distinguish between copy.copy() and copy.deepcopy()?"
   ]
  },
  {
   "cell_type": "code",
   "execution_count": null,
   "id": "4177fa3b",
   "metadata": {},
   "outputs": [],
   "source": [
    "Ans. Here, the copy() return a shallow copy of x. Similarly, deepcopy() return a deep copy of x."
   ]
  },
  {
   "cell_type": "code",
   "execution_count": null,
   "id": "c3340304",
   "metadata": {},
   "outputs": [],
   "source": []
  }
 ],
 "metadata": {
  "kernelspec": {
   "display_name": "Python 3",
   "language": "python",
   "name": "python3"
  },
  "language_info": {
   "codemirror_mode": {
    "name": "ipython",
    "version": 3
   },
   "file_extension": ".py",
   "mimetype": "text/x-python",
   "name": "python",
   "nbconvert_exporter": "python",
   "pygments_lexer": "ipython3",
   "version": "3.6.13"
  }
 },
 "nbformat": 4,
 "nbformat_minor": 5
}
