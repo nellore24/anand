{
 "cells": [
  {
   "cell_type": "markdown",
   "id": "7de94a6c",
   "metadata": {},
   "source": [
    "1. Is the Python Standard Library included with PyInputPlus?"
   ]
  },
  {
   "cell_type": "markdown",
   "id": "8c41e358",
   "metadata": {},
   "source": [
    "Ans.No, We need to install the module via pip command (pip install PyInputPlus)"
   ]
  },
  {
   "cell_type": "code",
   "execution_count": null,
   "id": "de32dc8c",
   "metadata": {},
   "outputs": [],
   "source": []
  },
  {
   "cell_type": "markdown",
   "id": "80777352",
   "metadata": {},
   "source": [
    "2. Why is PyInputPlus commonly imported with import pyinputplus as pypi?"
   ]
  },
  {
   "cell_type": "markdown",
   "id": "f158da7f",
   "metadata": {},
   "source": [
    "Ans. Because we can enter shorter name while calling a module function."
   ]
  },
  {
   "cell_type": "code",
   "execution_count": null,
   "id": "baec6f5e",
   "metadata": {},
   "outputs": [],
   "source": []
  },
  {
   "cell_type": "markdown",
   "id": "468668ef",
   "metadata": {},
   "source": [
    "3. How do you distinguish between inputInt() and inputFloat()?"
   ]
  },
  {
   "cell_type": "markdown",
   "id": "10c5b0cc",
   "metadata": {},
   "source": [
    "Ans. When user wants to type integer then use inputInt() and when user wants to use float then use inputFloat()."
   ]
  },
  {
   "cell_type": "code",
   "execution_count": null,
   "id": "64fbb7c1",
   "metadata": {},
   "outputs": [],
   "source": []
  },
  {
   "cell_type": "markdown",
   "id": "fed2ccb4",
   "metadata": {},
   "source": [
    "4. Using PyInputPlus, how do you ensure that the user enters a whole number between 0 and 99?"
   ]
  },
  {
   "cell_type": "markdown",
   "id": "aba1c920",
   "metadata": {},
   "source": [
    "Ans. PyInputPlus will keep asking you untill you enter valid input."
   ]
  },
  {
   "cell_type": "code",
   "execution_count": null,
   "id": "2b01e533",
   "metadata": {},
   "outputs": [],
   "source": []
  },
  {
   "cell_type": "markdown",
   "id": "a3185f8d",
   "metadata": {},
   "source": [
    "5. What is transferred to the keyword arguments allowRegexes and blockRegexes?"
   ]
  },
  {
   "cell_type": "markdown",
   "id": "53bfc505",
   "metadata": {},
   "source": [
    "Ans. We can also use regular expressions to specify whether an input is allowed or not. The allowRegexes and blockRegexes keyword arguments take a list of regular expression strings to determine what the PyInputPlus function will accept or reject as valid input."
   ]
  },
  {
   "cell_type": "code",
   "execution_count": null,
   "id": "36d0fd56",
   "metadata": {},
   "outputs": [],
   "source": []
  },
  {
   "cell_type": "markdown",
   "id": "3738c91a",
   "metadata": {},
   "source": [
    "6. If a blank input is entered three times, what does inputStr(limit=3) do?"
   ]
  },
  {
   "cell_type": "markdown",
   "id": "3b5bb94e",
   "metadata": {},
   "source": [
    "Ans.IT will throw RetryLumitException exception."
   ]
  },
  {
   "cell_type": "markdown",
   "id": "b6847655",
   "metadata": {},
   "source": []
  },
  {
   "cell_type": "markdown",
   "id": "6bc8c13b",
   "metadata": {},
   "source": [
    "7. If blank input is entered three times, what does inputStr(limit=3, default='hello') do?"
   ]
  },
  {
   "cell_type": "markdown",
   "id": "eae5ef5a",
   "metadata": {},
   "source": [
    "Ans.When you use limit keyword arguments and also pass a default keyword argument, the function returns the default value instead of raising an exception"
   ]
  },
  {
   "cell_type": "code",
   "execution_count": null,
   "id": "59e5e5a9",
   "metadata": {},
   "outputs": [],
   "source": []
  }
 ],
 "metadata": {
  "kernelspec": {
   "display_name": "Python 3 (ipykernel)",
   "language": "python",
   "name": "python3"
  },
  "language_info": {
   "codemirror_mode": {
    "name": "ipython",
    "version": 3
   },
   "file_extension": ".py",
   "mimetype": "text/x-python",
   "name": "python",
   "nbconvert_exporter": "python",
   "pygments_lexer": "ipython3",
   "version": "3.9.7"
  }
 },
 "nbformat": 4,
 "nbformat_minor": 5
}
