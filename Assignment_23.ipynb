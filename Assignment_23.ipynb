{
 "cells": [
  {
   "cell_type": "markdown",
   "id": "78eb6a50",
   "metadata": {},
   "source": [
    "1. What is the result of the code, and why?\n",
    ">>> def func(a, b=6, c=8):\n",
    "print(a, b, c)\n",
    ">>> func(1, 2)\n"
   ]
  },
  {
   "cell_type": "code",
   "execution_count": 1,
   "id": "48d7bd46",
   "metadata": {},
   "outputs": [
    {
     "name": "stdout",
     "output_type": "stream",
     "text": [
      "1 2 8\n"
     ]
    }
   ],
   "source": [
    "def func(a, b=6, c=8):\n",
    "    print(a, b, c)\n",
    "func(1, 2)\n",
    "\n",
    "# Ans. This funtion is taking a positional argument and 2 keyward argument. When function call m=is made, parameter passed \n",
    "  # are a=1,b=2. When the function is executed , parameter c=8 will be taken by default as its a keyword argument.\n",
    "   # solution is = 1,2,8"
   ]
  },
  {
   "cell_type": "code",
   "execution_count": null,
   "id": "960d6db1",
   "metadata": {},
   "outputs": [],
   "source": []
  },
  {
   "cell_type": "code",
   "execution_count": null,
   "id": "910f5c6e",
   "metadata": {},
   "outputs": [],
   "source": []
  },
  {
   "cell_type": "code",
   "execution_count": null,
   "id": "a615a0ed",
   "metadata": {},
   "outputs": [],
   "source": []
  },
  {
   "cell_type": "markdown",
   "id": "0a8b0e6b",
   "metadata": {},
   "source": [
    "2. What is the result of this code, and why?\n",
    ">>> def func(a, b, c=5):\n",
    "print(a, b, c)\n",
    ">>> func(1, c=3, b=2)\n"
   ]
  },
  {
   "cell_type": "code",
   "execution_count": 2,
   "id": "4488cad6",
   "metadata": {},
   "outputs": [
    {
     "name": "stdout",
     "output_type": "stream",
     "text": [
      "1 2 3\n"
     ]
    }
   ],
   "source": [
    "def func(a, b, c=5):\n",
    "    print(a, b, c)\n",
    "func(1, c=3, b=2)\n",
    "\n",
    "# Ans. When we make function call, order will be positional argument and then keywords arguments. we can pass the keyword arguments in any order we want.\n",
    "#Solution is 1,2,3"
   ]
  },
  {
   "cell_type": "code",
   "execution_count": null,
   "id": "70d8393b",
   "metadata": {},
   "outputs": [],
   "source": []
  },
  {
   "cell_type": "code",
   "execution_count": null,
   "id": "3223dfe2",
   "metadata": {},
   "outputs": [],
   "source": []
  },
  {
   "cell_type": "code",
   "execution_count": null,
   "id": "3490b160",
   "metadata": {},
   "outputs": [],
   "source": []
  },
  {
   "cell_type": "markdown",
   "id": "30aee1bb",
   "metadata": {},
   "source": [
    "3. How about this code: what is its result, and why?\n",
    ">>> def func(a, *pargs):\n",
    "print(a, pargs)\n",
    ">>> func(1, 2, 3)\n"
   ]
  },
  {
   "cell_type": "code",
   "execution_count": 3,
   "id": "7babfce1",
   "metadata": {},
   "outputs": [
    {
     "name": "stdout",
     "output_type": "stream",
     "text": [
      "1 (2, 3)\n"
     ]
    }
   ],
   "source": [
    "def func(a, *pargs):\n",
    "    print(a, pargs)\n",
    "func(1, 2, 3)\n",
    "\n",
    "# Ans.The return type of *args parameter is tuple, where as **kargs will be dictionary\n",
    "#solution is = 1,(2,3)"
   ]
  },
  {
   "cell_type": "code",
   "execution_count": null,
   "id": "b2fef3e5",
   "metadata": {},
   "outputs": [],
   "source": []
  },
  {
   "cell_type": "code",
   "execution_count": null,
   "id": "8788056c",
   "metadata": {},
   "outputs": [],
   "source": []
  },
  {
   "cell_type": "code",
   "execution_count": null,
   "id": "12f74333",
   "metadata": {},
   "outputs": [],
   "source": []
  },
  {
   "cell_type": "markdown",
   "id": "aed150f9",
   "metadata": {},
   "source": [
    "4. What does this code print, and why?\n",
    ">>> def func(a, **kargs):\n",
    "print(a, kargs)\n",
    ">>> func(a=1, c=3, b=2)\n"
   ]
  },
  {
   "cell_type": "code",
   "execution_count": 4,
   "id": "444becb2",
   "metadata": {},
   "outputs": [
    {
     "name": "stdout",
     "output_type": "stream",
     "text": [
      "1 {'c': 3, 'b': 2}\n"
     ]
    }
   ],
   "source": [
    "def func(a, **kargs):\n",
    "    print(a, kargs)\n",
    "func(a=1, c=3, b=2)\n",
    "\n",
    "#Ans. The return type of  **kargs is  dictionary\n",
    "#solution is = 1,{'c':3,'b':2}"
   ]
  },
  {
   "cell_type": "code",
   "execution_count": null,
   "id": "be538225",
   "metadata": {},
   "outputs": [],
   "source": []
  },
  {
   "cell_type": "code",
   "execution_count": null,
   "id": "7b9558f3",
   "metadata": {},
   "outputs": [],
   "source": []
  },
  {
   "cell_type": "code",
   "execution_count": null,
   "id": "b2c8d1af",
   "metadata": {},
   "outputs": [],
   "source": []
  },
  {
   "cell_type": "markdown",
   "id": "dc31863e",
   "metadata": {},
   "source": [
    "5. What gets printed by this, and explain?\n",
    ">>> def func(a, b, c=8, d=5): print(a, b, c, d)\n",
    ">>> func(1, *(5, 6))\n"
   ]
  },
  {
   "cell_type": "code",
   "execution_count": 5,
   "id": "cda8a327",
   "metadata": {},
   "outputs": [
    {
     "name": "stdout",
     "output_type": "stream",
     "text": [
      "1 5 6 5\n"
     ]
    }
   ],
   "source": [
    "def func(a, b, c=8, d=5): \n",
    "    print(a, b, c, d)\n",
    "func(1, *(5, 6))\n",
    "\n",
    "# '*' is the unpacking operator and are operators that unpack the values from iterable objects in Python. The single \n",
    "#    asterisk operator * can be used on any iterable that Python provides, while the double asterisk operator ** can only \n",
    " #   be used on dictionaries. In the example the value *(5,6) will be unpacked and will be assigned to b and c and passed \n",
    " #   as arguments, d =5 will taken by defaults are keyword arguments.\n",
    "\n",
    "  #  Solution 1,5,6,5"
   ]
  },
  {
   "cell_type": "code",
   "execution_count": null,
   "id": "bf514b87",
   "metadata": {},
   "outputs": [],
   "source": []
  },
  {
   "cell_type": "code",
   "execution_count": null,
   "id": "50282269",
   "metadata": {},
   "outputs": [],
   "source": []
  },
  {
   "cell_type": "code",
   "execution_count": null,
   "id": "c4752ebf",
   "metadata": {},
   "outputs": [],
   "source": []
  },
  {
   "cell_type": "markdown",
   "id": "153c8414",
   "metadata": {},
   "source": [
    "6. what is the result of this, and explain?\n",
    ">>> def func(a, b, c): a = 2; b[0] = 'x'; c['a'] = 'y'\n",
    ">>> l=1; m=[1]; n={'a':0}\n",
    ">>> func(l, m, n)\n",
    ">>> l, m, n\n"
   ]
  },
  {
   "cell_type": "code",
   "execution_count": 6,
   "id": "b9c02265",
   "metadata": {},
   "outputs": [
    {
     "data": {
      "text/plain": [
       "(1, ['x'], {'a': 'y'})"
      ]
     },
     "execution_count": 6,
     "metadata": {},
     "output_type": "execute_result"
    }
   ],
   "source": [
    "def func(a, b, c): \n",
    "    a = 2; b[0] = 'x'; c['a'] = 'y'\n",
    "    \n",
    "l=1; m=[1]; n={'a':0}\n",
    "func(l, m, n)\n",
    "\n",
    "l, m, n\n",
    "\n",
    "# Ans. Here in the code, the list and dict are passed as argument, and those are mutable. Here the list l and parameter b point \n",
    "#to the same list in the memory location where as dict n and c point to the same memory location. Any updates to this \n",
    "#list will update in the memory location\n",
    "\n",
    "#l = 1 , integer values, immutable, m is list, mutable, n is dict, mutable.\n",
    "#output will be = 1,['x'],{'a':'y'}"
   ]
  },
  {
   "cell_type": "code",
   "execution_count": null,
   "id": "2c1f34ca",
   "metadata": {},
   "outputs": [],
   "source": []
  }
 ],
 "metadata": {
  "kernelspec": {
   "display_name": "Python 3 (ipykernel)",
   "language": "python",
   "name": "python3"
  },
  "language_info": {
   "codemirror_mode": {
    "name": "ipython",
    "version": 3
   },
   "file_extension": ".py",
   "mimetype": "text/x-python",
   "name": "python",
   "nbconvert_exporter": "python",
   "pygments_lexer": "ipython3",
   "version": "3.9.7"
  }
 },
 "nbformat": 4,
 "nbformat_minor": 5
}
