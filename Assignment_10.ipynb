{
 "cells": [
  {
   "cell_type": "markdown",
   "id": "05bc6e34",
   "metadata": {},
   "source": [
    "1. How do you distinguish between shutil.copy() and shutil.copytree()?"
   ]
  },
  {
   "cell_type": "markdown",
   "id": "a484b281",
   "metadata": {},
   "source": [
    "Ans. Calling shutil.copytree(source, destination) will copy the folder at the path source, along with all of its files and subfolders, to the folder at the path destination. The source and destination parameters are both strings. The function returns a string of the path of the copied folder.\n",
    "\n",
    "Enter the following into the interactive shell:\n",
    "\n",
    "\n",
    ">>> import shutil, os\n",
    ">>> os.chdir('C:\\\\')\n",
    ">>> shutil.copytree('C:\\\\bacon', 'C:\\\\bacon_backup')\n",
    "'C:\\\\bacon_backup'\n",
    "The shutil.copytree() call creates a new folder named bacon_backup with the same content as the original bacon folder. You have now safely backed up your precious, precious bacon."
   ]
  },
  {
   "cell_type": "code",
   "execution_count": null,
   "id": "f6269548",
   "metadata": {},
   "outputs": [],
   "source": []
  },
  {
   "cell_type": "code",
   "execution_count": null,
   "id": "e5993cd8",
   "metadata": {},
   "outputs": [],
   "source": []
  },
  {
   "cell_type": "markdown",
   "id": "6f013606",
   "metadata": {},
   "source": [
    "2. What function is used to rename files??"
   ]
  },
  {
   "cell_type": "markdown",
   "id": "b92b5359",
   "metadata": {},
   "source": [
    "Ans. rename() method in Python is used to rename a file or directory."
   ]
  },
  {
   "cell_type": "code",
   "execution_count": null,
   "id": "b2f8d924",
   "metadata": {},
   "outputs": [],
   "source": []
  },
  {
   "cell_type": "code",
   "execution_count": null,
   "id": "edc4d2b3",
   "metadata": {},
   "outputs": [],
   "source": []
  },
  {
   "cell_type": "markdown",
   "id": "2d7986d5",
   "metadata": {},
   "source": [
    "3.What is the difference between the delete functions in the send2trash and shutil modules?"
   ]
  },
  {
   "cell_type": "markdown",
   "id": "2cc5e5cc",
   "metadata": {},
   "source": [
    "Ans. The send2trash functions will move a file or folder to the recycle bin, while shutil functions will permanently delete files and folders."
   ]
  },
  {
   "cell_type": "code",
   "execution_count": null,
   "id": "2a01ca5e",
   "metadata": {},
   "outputs": [],
   "source": []
  },
  {
   "cell_type": "code",
   "execution_count": null,
   "id": "983fdf3b",
   "metadata": {},
   "outputs": [],
   "source": []
  },
  {
   "cell_type": "markdown",
   "id": "e68ad290",
   "metadata": {},
   "source": [
    "4.ZipFile objects have a close() method just like File objects’ close() method. What ZipFile method is equivalent to File objects’ open() method?"
   ]
  },
  {
   "cell_type": "markdown",
   "id": "91c49dee",
   "metadata": {},
   "source": [
    "Ans. The extractall() method for ZipFile objects extracts all the files and folders from a ZIP file into the current working directory."
   ]
  },
  {
   "cell_type": "code",
   "execution_count": null,
   "id": "ad27fe57",
   "metadata": {},
   "outputs": [],
   "source": []
  },
  {
   "cell_type": "code",
   "execution_count": null,
   "id": "af04528c",
   "metadata": {},
   "outputs": [],
   "source": []
  },
  {
   "cell_type": "markdown",
   "id": "4a4b16a7",
   "metadata": {},
   "source": [
    "5.Create a programme that searches a folder tree for files with a certain file extension (such as .pdf or .jpg). Copy these files from whatever location they are in to a new folder."
   ]
  },
  {
   "cell_type": "code",
   "execution_count": null,
   "id": "ec5ffacf",
   "metadata": {},
   "outputs": [],
   "source": [
    "import re\n",
    "import os\n",
    "import shutil\n",
    "\n",
    "filePdf = re.compile(r\"\"\"^(.*?)          #text before extension\n",
    "          [.][p][d][f]                   #extension .pdf\n",
    "          \"\"\", re.VERBOSE)\n",
    "\n",
    "def selectiveCopy(fileExtension):\n",
    "    for pdfFiles in os.listdir(\"/Users//Desktop/newPDFs\"):\n",
    "        locatedFiles = filePdf.search(pdfFiles)\n",
    "        if locatedFiles != None:\n",
    "            print(locatedFiles)\n",
    "            files_to_copy = os.path.join(\"/Users/my_user_name/Desktop/newPDFs\", pdfFiles)   `\n",
    "            shutil.copy(files_to_copy, \"/Users/my_user_name/Desktop/oldPDFs\")   \n",
    "            print(\"The following file has been copied \" + files_to_copy)\n",
    "selectiveCopy(filePdf)"
   ]
  }
 ],
 "metadata": {
  "kernelspec": {
   "display_name": "Python 3 (ipykernel)",
   "language": "python",
   "name": "python3"
  },
  "language_info": {
   "codemirror_mode": {
    "name": "ipython",
    "version": 3
   },
   "file_extension": ".py",
   "mimetype": "text/x-python",
   "name": "python",
   "nbconvert_exporter": "python",
   "pygments_lexer": "ipython3",
   "version": "3.9.7"
  }
 },
 "nbformat": 4,
 "nbformat_minor": 5
}
