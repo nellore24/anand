{
 "cells": [
  {
   "cell_type": "markdown",
   "id": "42c529d8",
   "metadata": {},
   "source": [
    "1.What are escape characters, and how do you use them?"
   ]
  },
  {
   "cell_type": "code",
   "execution_count": null,
   "id": "dbdaf3ba",
   "metadata": {},
   "outputs": [],
   "source": [
    "Ans. Escape characters represents characters in string values that would otherwise be difficult\n",
    "      or impossible to type into code."
   ]
  },
  {
   "cell_type": "code",
   "execution_count": null,
   "id": "e654aba8",
   "metadata": {},
   "outputs": [],
   "source": []
  },
  {
   "cell_type": "markdown",
   "id": "0672cab9",
   "metadata": {},
   "source": [
    "2. What do the escape characters n and t stand for?"
   ]
  },
  {
   "cell_type": "code",
   "execution_count": null,
   "id": "2125d086",
   "metadata": {},
   "outputs": [],
   "source": [
    "Ans. n for new line and t for tab."
   ]
  },
  {
   "cell_type": "code",
   "execution_count": null,
   "id": "a9228667",
   "metadata": {},
   "outputs": [],
   "source": []
  },
  {
   "cell_type": "markdown",
   "id": "8e6f25d2",
   "metadata": {},
   "source": [
    "3. What is the way to include backslash characters in a string?"
   ]
  },
  {
   "cell_type": "code",
   "execution_count": null,
   "id": "20613058",
   "metadata": {},
   "outputs": [],
   "source": [
    "Ans. The \\\\escape character will represent a backslash character."
   ]
  },
  {
   "cell_type": "code",
   "execution_count": null,
   "id": "e5cb0fc9",
   "metadata": {},
   "outputs": [],
   "source": []
  },
  {
   "cell_type": "markdown",
   "id": "bafb313f",
   "metadata": {},
   "source": [
    "4. The string \"Howl's Moving Castle\" is a correct value. Why isn't the single quote character in the word Howl's not escaped a problem?"
   ]
  },
  {
   "cell_type": "code",
   "execution_count": null,
   "id": "a21eaf7f",
   "metadata": {},
   "outputs": [],
   "source": [
    "Ans.The single quote in Howl's is fine because you’ve used double quotes to mark the \n",
    "     beginning and end of the string."
   ]
  },
  {
   "cell_type": "code",
   "execution_count": null,
   "id": "efcdaa70",
   "metadata": {},
   "outputs": [],
   "source": []
  },
  {
   "cell_type": "markdown",
   "id": "3de5e47b",
   "metadata": {},
   "source": [
    "5. How do you write a string of newlines if you don't want to use the n character?"
   ]
  },
  {
   "cell_type": "code",
   "execution_count": null,
   "id": "b8ea8d70",
   "metadata": {},
   "outputs": [],
   "source": [
    "Ans. Multiline strings allow you to use newlines in strings without the \\n escape character"
   ]
  },
  {
   "cell_type": "code",
   "execution_count": null,
   "id": "034a7f06",
   "metadata": {},
   "outputs": [],
   "source": []
  },
  {
   "cell_type": "markdown",
   "id": "9fa1b381",
   "metadata": {},
   "source": [
    "Multiline strings allow you to use newlines in strings without the \\n escape character\n",
    "'Hello, world!'[1]\n",
    "'Hello, world!'[0:5]\n",
    "'Hello, world!'[:5]\n",
    "'Hello, world!'[3:]\n"
   ]
  },
  {
   "cell_type": "code",
   "execution_count": null,
   "id": "a25df927",
   "metadata": {},
   "outputs": [],
   "source": [
    "Ans. 'e',  'Hello',  'Hello'  ,'lo world!'"
   ]
  },
  {
   "cell_type": "code",
   "execution_count": null,
   "id": "af0b8b16",
   "metadata": {},
   "outputs": [],
   "source": []
  },
  {
   "cell_type": "markdown",
   "id": "7ac1e1cb",
   "metadata": {},
   "source": [
    "7. What are the values of the following expressions?\n",
    "'Hello'.upper()\n",
    "'Hello'.upper().isupper()\n",
    "'Hello'.upper().lower()\n"
   ]
  },
  {
   "cell_type": "code",
   "execution_count": null,
   "id": "04a42474",
   "metadata": {},
   "outputs": [],
   "source": [
    "Ans.  'HELO',  True,  'hello'"
   ]
  },
  {
   "cell_type": "code",
   "execution_count": null,
   "id": "59f6d513",
   "metadata": {},
   "outputs": [],
   "source": []
  },
  {
   "cell_type": "markdown",
   "id": "de4fb5df",
   "metadata": {},
   "source": [
    "8. What are the values of the following expressions?\n",
    "'Remember, remember, the fifth of July.'.split()\n",
    "'-'.join('There can only one.'.split())\n"
   ]
  },
  {
   "cell_type": "code",
   "execution_count": null,
   "id": "ab6c6125",
   "metadata": {},
   "outputs": [],
   "source": [
    "Ans. ['Remember,', 'remember,', 'the', 'fifth', 'of', 'November.']\n",
    "      'There-can-be-only-one.'"
   ]
  },
  {
   "cell_type": "code",
   "execution_count": null,
   "id": "34a632db",
   "metadata": {},
   "outputs": [],
   "source": []
  },
  {
   "cell_type": "markdown",
   "id": "40416c65",
   "metadata": {},
   "source": [
    "9. What are the methods for right-justifying, left-justifying, and centering a string?"
   ]
  },
  {
   "cell_type": "code",
   "execution_count": null,
   "id": "fee35dfa",
   "metadata": {},
   "outputs": [],
   "source": [
    "Ans.The rjust(), ljust(), and center() string methods, respectively"
   ]
  },
  {
   "cell_type": "code",
   "execution_count": null,
   "id": "87de958b",
   "metadata": {},
   "outputs": [],
   "source": []
  },
  {
   "cell_type": "markdown",
   "id": "da98d8e5",
   "metadata": {},
   "source": [
    "10. What is the best way to remove whitespace characters from the start or end?"
   ]
  },
  {
   "cell_type": "code",
   "execution_count": null,
   "id": "2fe242b9",
   "metadata": {},
   "outputs": [],
   "source": [
    "Ans. The lstrip() and rstrip() methods remove whitespace from the left and right ends \n",
    "      of a string, respectively."
   ]
  }
 ],
 "metadata": {
  "kernelspec": {
   "display_name": "Python 3",
   "language": "python",
   "name": "python3"
  },
  "language_info": {
   "codemirror_mode": {
    "name": "ipython",
    "version": 3
   },
   "file_extension": ".py",
   "mimetype": "text/x-python",
   "name": "python",
   "nbconvert_exporter": "python",
   "pygments_lexer": "ipython3",
   "version": "3.6.13"
  }
 },
 "nbformat": 4,
 "nbformat_minor": 5
}
